{
 "cells": [
  {
   "cell_type": "markdown",
   "metadata": {},
   "source": [
    "### Exercise 1\n",
    "Ask a user to enter a number. If the number is positive, print <b>Positive number</b>. Otherwise, do not print any message. Finally, print 'goodbye' message at the end."
   ]
  },
  {
   "cell_type": "code",
   "execution_count": 10,
   "metadata": {},
   "outputs": [
    {
     "name": "stdout",
     "output_type": "stream",
     "text": [
      "Please enter a number\n",
      "-1\n",
      "Goodbye\n"
     ]
    }
   ],
   "source": [
    "print (\"Please enter a number\")\n",
    "x = int(input())\n",
    "\n",
    "if (x >= 0) :\n",
    "    print (\"Positive number\")\n",
    "\n",
    "print (\"Goodbye\")"
   ]
  },
  {
   "cell_type": "code",
   "execution_count": null,
   "metadata": {},
   "outputs": [],
   "source": []
  },
  {
   "cell_type": "markdown",
   "metadata": {},
   "source": [
    "### Exercise 2\n",
    "Ask for a code and store that answer. \n",
    "If the answer is grey then print out if you found secret code.\n",
    "Otherwise print out the code is not the secret code."
   ]
  },
  {
   "cell_type": "code",
   "execution_count": 12,
   "metadata": {},
   "outputs": [
    {
     "name": "stdout",
     "output_type": "stream",
     "text": [
      "enter a code\n",
      "blue\n",
      "The code is NOT secert code\n"
     ]
    }
   ],
   "source": [
    "print (\"enter a code\")\n",
    "Ans = input()\n",
    "\n",
    "if Ans == \"grey\" :\n",
    "    print (\"You found secert code\")\n",
    "else :\n",
    "    print (\"The code is NOT secert code\")"
   ]
  },
  {
   "cell_type": "code",
   "execution_count": null,
   "metadata": {},
   "outputs": [],
   "source": []
  },
  {
   "cell_type": "markdown",
   "metadata": {},
   "source": [
    "### Exercise 3\n",
    "\n",
    "Ask a user to enter a phrase. If the word contains a number, display the \"Number found\" message. Otherwise, show the \"Number not found\" message. "
   ]
  },
  {
   "cell_type": "code",
   "execution_count": 33,
   "metadata": {},
   "outputs": [
    {
     "name": "stdout",
     "output_type": "stream",
     "text": [
      "enter a phrase\n",
      "Jack is going to 0\n",
      "Number found\n"
     ]
    }
   ],
   "source": [
    "print (\"enter a phrase\")\n",
    "Phrase = input()\n",
    "\n",
    "\n",
    "if \"1\" in Phrase :\n",
    "    print (\"Number found\")\n",
    "else :\n",
    "    if \"2\" in Phrase :\n",
    "        print (\"Number found\")\n",
    "    else :\n",
    "        if \"3\" in Phrase :\n",
    "            print (\"Number found\")\n",
    "        else :    \n",
    "            if \"4\" in Phrase :\n",
    "                print (\"Number found\")\n",
    "            else :\n",
    "                if \"5\" in Phrase :\n",
    "                    print (\"Number found\")\n",
    "                else :\n",
    "                    if \"6\" in Phrase :\n",
    "                        print (\"Number found\")\n",
    "                    else :\n",
    "                        if \"7\" in Phrase :\n",
    "                             print (\"Number found\")\n",
    "                        else :\n",
    "                            if \"8\" in Phrase :\n",
    "                                print (\"Number found\")\n",
    "                            else :\n",
    "                                if \"9\" in Phrase :\n",
    "                                    print (\"Number found\")\n",
    "                                else :\n",
    "                                    if \"0\" in Phrase :\n",
    "                                        print (\"Number found\")\n",
    "                                    else :\n",
    "                                        print (\"Number NOT found\")"
   ]
  },
  {
   "cell_type": "code",
   "execution_count": null,
   "metadata": {},
   "outputs": [],
   "source": []
  },
  {
   "cell_type": "markdown",
   "metadata": {},
   "source": [
    "### Exercise 4\n",
    "\n",
    "Ask a user to enter a number. Then, only if the number is divisible by 2 and 3, show the result of the number divided by two and three in a formated string. The output should look something like this:\n",
    "        \n",
    "    Enter a number: 2\n",
    "    Bye    \n",
    "    \n",
    "    Enter a number: 60\n",
    "    60 / 2 = 30.0\n",
    "    60 / 3 = 20.0\n",
    "    Bye\n",
    "    \n",
    "    Enter a number: 3\n",
    "    Bye\n",
    "    \n",
    "    Enter a number: 10\n",
    "    Bye    "
   ]
  },
  {
   "cell_type": "code",
   "execution_count": 45,
   "metadata": {},
   "outputs": [
    {
     "name": "stdout",
     "output_type": "stream",
     "text": [
      "Enter a number\n",
      "10\n",
      "Bye\n"
     ]
    }
   ],
   "source": [
    "print (\"Enter a number\")\n",
    "Numb = int(input())\n",
    "\n",
    "if Numb % 2 == 0 :\n",
    "    if Numb % 3 == 0 :\n",
    "        print (f\"{Numb} / 2 = \", Numb/2)\n",
    "        print (f\"{Numb} / 3 = \", Numb/3)\n",
    "        print(\"Bye\")\n",
    "    else :\n",
    "        print(\"Bye\")\n",
    "else :\n",
    "    print(\"Bye\")\n",
    "        "
   ]
  },
  {
   "cell_type": "code",
   "execution_count": null,
   "metadata": {},
   "outputs": [],
   "source": []
  },
  {
   "cell_type": "markdown",
   "metadata": {},
   "source": [
    "### Exercise 5\n",
    "Ask a user to enter a number. Determine if the number is zero, positive or negative. Use only <b>if</b> and <b>else</b> statements. \n",
    "    "
   ]
  },
  {
   "cell_type": "code",
   "execution_count": 51,
   "metadata": {},
   "outputs": [
    {
     "name": "stdout",
     "output_type": "stream",
     "text": [
      "Enter a number\n",
      "-2\n",
      "The number is Negative\n"
     ]
    }
   ],
   "source": [
    "print (\"Enter a number\")\n",
    "Numb = int(input())\n",
    "\n",
    "if Numb == 0 :\n",
    "    print (\"The number is a big old 0\")\n",
    "else :\n",
    "    if Numb > 0 :\n",
    "        print (\"The number is Positive\")\n",
    "    else :\n",
    "        print (\"The number is Negative\")\n"
   ]
  },
  {
   "cell_type": "code",
   "execution_count": null,
   "metadata": {},
   "outputs": [],
   "source": []
  },
  {
   "cell_type": "code",
   "execution_count": null,
   "metadata": {},
   "outputs": [],
   "source": []
  }
 ],
 "metadata": {
  "kernelspec": {
   "display_name": "Python 3 (ipykernel)",
   "language": "python",
   "name": "python3"
  },
  "language_info": {
   "codemirror_mode": {
    "name": "ipython",
    "version": 3
   },
   "file_extension": ".py",
   "mimetype": "text/x-python",
   "name": "python",
   "nbconvert_exporter": "python",
   "pygments_lexer": "ipython3",
   "version": "3.11.5"
  }
 },
 "nbformat": 4,
 "nbformat_minor": 4
}
